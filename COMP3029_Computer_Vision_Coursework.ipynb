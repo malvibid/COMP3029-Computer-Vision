{
  "nbformat": 4,
  "nbformat_minor": 0,
  "metadata": {
    "colab": {
      "provenance": [],
      "authorship_tag": "ABX9TyP4j/dE1AX4pkZ61PkmjpcX",
      "include_colab_link": true
    },
    "kernelspec": {
      "name": "python3",
      "display_name": "Python 3"
    },
    "language_info": {
      "name": "python"
    }
  },
  "cells": [
    {
      "cell_type": "markdown",
      "metadata": {
        "id": "view-in-github",
        "colab_type": "text"
      },
      "source": [
        "<a href=\"https://colab.research.google.com/github/malvibid/COMP3029-Computer-Vision/blob/main/COMP3029_Computer_Vision_Coursework.ipynb\" target=\"_parent\"><img src=\"https://colab.research.google.com/assets/colab-badge.svg\" alt=\"Open In Colab\"/></a>"
      ]
    },
    {
      "cell_type": "markdown",
      "source": [
        "**COMP3029 COMPUTER VISION COURSEWORK** \n",
        "\n",
        "*Spring 2022/2023*, School of Computer Science, University of Nottingham Malaysia\n",
        "\n",
        "```\n",
        "GROUP 4: \n",
        "  20306551 - Mustafa Mehmood\n",
        "  20311657 - Omar Ismail\n",
        "  20311860 - Gabriel Hoh Chao Jei\n",
        "  20187945 - Malvi Bid\n",
        "```\n",
        "\n",
        "\n",
        "\n"
      ],
      "metadata": {
        "id": "lxNpPuH5mxHe"
      }
    }
  ]
}